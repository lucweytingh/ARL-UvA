{
 "cells": [
  {
   "cell_type": "markdown",
   "metadata": {
    "colab_type": "text",
    "id": "yAq6aHVh5oCH"
   },
   "source": [
    "**Copyright 2020 Google LLC.**\n",
    "\n",
    "Licensed under the Apache License, Version 2.0 (the \"License\"); you may not use this file except in compliance with the License. You may obtain a copy of the License at\n",
    "\n",
    "https://www.apache.org/licenses/LICENSE-2.0\n",
    "\n",
    "Unless required by applicable law or agreed to in writing, software distributed under the License is distributed on an \"AS IS\" BASIS, WITHOUT WARRANTIES OR CONDITIONS OF ANY KIND, either express or implied. See the License for the specific language governing permissions and limitations under the License."
   ]
  },
  {
   "cell_type": "markdown",
   "metadata": {},
   "source": [
    "-------------\n",
    "**Important note**\n",
    "\n",
    "\n",
    "This notebook has been adapted to function properly with most recent versions of pandas, sklearn and seaborn on January 2021 for the ML challange.\n",
    "\n",
    "-------------\n",
    "J. Mohazzab, C.A. Wortmann, L.R. Weytingh, B. Brocades Zaalberg\\\n",
    "Involved master students AI \\\n",
    "Faculty of Science\\\n",
    "University of Amsterdam\n"
   ]
  },
  {
   "cell_type": "code",
   "execution_count": 1,
   "metadata": {
    "colab": {},
    "colab_type": "code",
    "id": "VpEpTFph2ysp"
   },
   "outputs": [],
   "source": [
    "from __future__ import division\n",
    "import pandas as pd\n",
    "import numpy as np\n",
    "import json\n",
    "import os,sys\n",
    "import seaborn as sns\n",
    "import matplotlib.pyplot as plt\n",
    "from sklearn.model_selection import train_test_split\n",
    "import numpy as np"
   ]
  },
  {
   "cell_type": "markdown",
   "metadata": {
    "colab_type": "text",
    "id": "F-u1ecNmMiX3"
   },
   "source": [
    "## Overview\n",
    "\n",
    "### Pre-processes UCI Adult (Census Income) dataset:\n",
    "\n",
    "Download the Adult train and test data files can be downloaded from:\n",
    "https://archive.ics.uci.edu/ml/machine-learning-databases/adult/adult.data\n",
    "https://archive.ics.uci.edu/ml/machine-learning-databases/adult/adult.test\n",
    "and save them in the `./data/uci_adult` folder.\n",
    "\n",
    "Input: \n",
    "\n",
    "*   ./data/uci_adult/adult.data \n",
    "*   ./data/uci_adult/adult.test\n",
    "\n",
    "\n",
    "Outputs: train.csv, test.csv, mean_std.json, vocabulary.json, IPS_exampleweights_with_label.json, IPS_exampleweights_without_label.json, dataset_stats.json"
   ]
  },
  {
   "cell_type": "code",
   "execution_count": 2,
   "metadata": {
    "colab": {},
    "colab_type": "code",
    "id": "oyFyRbFk7zox"
   },
   "outputs": [],
   "source": [
    "pd.options.display.float_format = '{:,.2f}'.format\n",
    "dataset_base_dir = '../datasets/uci_adult/'"
   ]
  },
  {
   "cell_type": "markdown",
   "metadata": {
    "colab_type": "text",
    "id": "PgWxzZeyKog3"
   },
   "source": [
    "### Load original dataset"
   ]
  },
  {
   "cell_type": "code",
   "execution_count": 3,
   "metadata": {
    "colab": {},
    "colab_type": "code",
    "id": "hB-PxNRyCRZm"
   },
   "outputs": [],
   "source": [
    "def convert_object_type_to_category(df):\n",
    "    \"\"\"Converts columns of type object to category.\"\"\"\n",
    "    df = pd.concat([df.select_dtypes(include=[], exclude=['object']),\n",
    "                  df.select_dtypes(['object']).apply(pd.Series.astype, dtype='category')\n",
    "                  ], axis=1).reindex(df.columns, axis=1)\n",
    "    return df"
   ]
  },
  {
   "cell_type": "code",
   "execution_count": 4,
   "metadata": {
    "colab": {},
    "colab_type": "code",
    "id": "chhYs8357xyU"
   },
   "outputs": [],
   "source": [
    "TRAIN_FILE = os.path.join(dataset_base_dir,'adult.data')\n",
    "TEST_FILE = os.path.join(dataset_base_dir,'adult.test')\n",
    "\n",
    "columns = [\n",
    "    \"age\", \"workclass\", \"fnlwgt\", \"education\", \"education-num\",\n",
    "    \"marital-status\", \"occupation\", \"relationship\", \"race\", \"sex\",\n",
    "    \"capital-gain\", \"capital-loss\", \"hours-per-week\", \"native-country\", \"income\"\n",
    "]\n",
    "\n",
    "target_variable = \"income\"\n",
    "target_value = \">50K\"\n",
    "\n",
    "with open(TRAIN_FILE, \"r\") as TRAIN_FILE:\n",
    "    train_df = pd.read_csv(TRAIN_FILE,sep=',', delimiter=' *, *', engine='python', names=columns)\n",
    "\n",
    "with open(TEST_FILE, \"r\") as TEST_FILE:\n",
    "    test_df = pd.read_csv(TEST_FILE,sep=',',delimiter=' *, *', engine='python', names=columns)"
   ]
  },
  {
   "cell_type": "code",
   "execution_count": 5,
   "metadata": {
    "colab": {},
    "colab_type": "code",
    "id": "Wy_GkVwHUsKQ"
   },
   "outputs": [],
   "source": [
    "# Convert columns of type ``object`` to ``category`` \n",
    "train_df = convert_object_type_to_category(train_df)\n",
    "test_df = convert_object_type_to_category(test_df)"
   ]
  },
  {
   "cell_type": "code",
   "execution_count": 6,
   "metadata": {},
   "outputs": [],
   "source": [
    "col_list_train = train_df.columns.values\n",
    "col_list_test = test_df.columns.values\n",
    "\n",
    "dtype = test_df['income']\n",
    "test_df['income'] = test_df['income'].astype('str').str.replace('50K.', '50K', regex=False)\n",
    "test_df['income'] = test_df['income'].astype('category')\n",
    "  \n",
    "test_df = test_df.iloc[1:]"
   ]
  },
  {
   "cell_type": "markdown",
   "metadata": {
    "colab_type": "text",
    "id": "1VQE85STLL46"
   },
   "source": [
    "### Computing Invese propensity weights for each subgroup, and writes to directory.\n",
    "\n",
    "IPS_example_weights_with_label.json: json dictionary of the format\n",
    "        {subgroup_id : inverse_propensity_score,...}. Used by IPS_reweighting_model approach."
   ]
  },
  {
   "cell_type": "code",
   "execution_count": 7,
   "metadata": {
    "colab": {
     "height": 34
    },
    "colab_type": "code",
    "id": "2fkieHul02TL",
    "outputId": "cb4c15dc-1979-46ee-c4c1-7ff546d30907"
   },
   "outputs": [
    {
     "name": "stdout",
     "output_type": "stream",
     "text": [
      "{0: 1.6102566638642994, 1: 3.5330946180555554, 2: 20.752708731676226, 3: 20.939549839228295}\n"
     ]
    }
   ],
   "source": [
    "IPS_example_weights_without_label = {\n",
    "  0: (len(train_df))/(len(train_df[(train_df.race != 'Black') & (train_df.sex != 'Female')])), # 00: White Male\n",
    "  1: (len(train_df))/(len(train_df[(train_df.race != 'Black') & (train_df.sex == 'Female')])), # 01: White Female\n",
    "  2: (len(train_df))/(len(train_df[(train_df.race == 'Black') & (train_df.sex != 'Female')])), # 10: Black Male\n",
    "  3: (len(train_df))/(len(train_df[(train_df.race == 'Black') & (train_df.sex == 'Female')]))  # 11: Black Female\n",
    "}\n",
    "  \n",
    "output_file_path = os.path.join(dataset_base_dir,'IPS_example_weights_without_label.json')\n",
    "with open(output_file_path, mode=\"w\") as output_file:\n",
    "    output_file.write(json.dumps(IPS_example_weights_without_label))\n",
    "    output_file.close()\n",
    "\n",
    "print(IPS_example_weights_without_label)"
   ]
  },
  {
   "cell_type": "code",
   "execution_count": 8,
   "metadata": {
    "colab": {
     "height": 34
    },
    "colab_type": "code",
    "id": "Dm15uo-R0-LB",
    "outputId": "15fd3cf8-3feb-48f7-dcbf-228fe02f7dbc"
   },
   "outputs": [
    {
     "name": "stdout",
     "output_type": "stream",
     "text": [
      "{0: 2.3499566974595845, 1: 4.00652147163775, 2: 25.59827044025157, 3: 22.2259385665529, 4: 5.115632364493323, 5: 29.899908172635445, 6: 109.63299663299664, 7: 361.7888888888889}\n"
     ]
    }
   ],
   "source": [
    "IPS_example_weights_with_label = {\n",
    "0: (len(train_df))/(len(train_df[(train_df[target_variable] != target_value) & (train_df.race != 'Black') & (train_df.sex != 'Female')])), # 000: Negative White Male\n",
    "1: (len(train_df))/(len(train_df[(train_df[target_variable] != target_value) & (train_df.race != 'Black') & (train_df.sex == 'Female')])), # 001: Negative White Female\n",
    "2: (len(train_df))/(len(train_df[(train_df[target_variable] != target_value) & (train_df.race == 'Black') & (train_df.sex != 'Female')])), # 010: Negative Black Male\n",
    "3: (len(train_df))/(len(train_df[(train_df[target_variable] != target_value) & (train_df.race == 'Black') & (train_df.sex == 'Female')])), # 011: Negative Black Female\n",
    "4: (len(train_df))/(len(train_df[(train_df[target_variable] == target_value) & (train_df.race != 'Black') & (train_df.sex != 'Female')])), # 100: Positive White Male\n",
    "5: (len(train_df))/(len(train_df[(train_df[target_variable] == target_value) & (train_df.race != 'Black') & (train_df.sex == 'Female')])), # 101: Positive White Female\n",
    "6: (len(train_df))/(len(train_df[(train_df[target_variable] == target_value) & (train_df.race == 'Black') & (train_df.sex != 'Female')])), # 110: Positive Black Male\n",
    "7: (len(train_df))/(len(train_df[(train_df[target_variable] == target_value) & (train_df.race == 'Black') & (train_df.sex == 'Female')])), # 111: Positive Black Female\n",
    "}\n",
    "  \n",
    "output_file_path = os.path.join(dataset_base_dir,'IPS_example_weights_with_label.json')\n",
    "with open(output_file_path, mode=\"w\") as output_file:\n",
    "    output_file.write(json.dumps(IPS_example_weights_with_label))\n",
    "    output_file.close()\n",
    "\n",
    "print(IPS_example_weights_with_label)\n",
    "\n",
    "# Save the output file as csv\n",
    "train_df.to_csv(dataset_base_dir + 'train.csv', index=False, header=False)\n",
    "test_df.to_csv(dataset_base_dir + 'test.csv', index=False, header=False)\n",
    "\n"
   ]
  },
  {
   "cell_type": "markdown",
   "metadata": {
    "colab_type": "text",
    "id": "8SQc7h9HLcSc"
   },
   "source": [
    "### Construct vocabulary.json, and write to directory.\n",
    "\n",
    "vocabulary.json: json dictionary of the format {feature_name:      [feature_vocabulary]}, containing vocabulary for categorical features."
   ]
  },
  {
   "cell_type": "code",
   "execution_count": 9,
   "metadata": {
    "colab": {
     "height": 54
    },
    "colab_type": "code",
    "id": "YIebJG2YfMpv",
    "outputId": "3c38fa2e-da0b-4958-915f-d3990556c138"
   },
   "outputs": [
    {
     "name": "stdout",
     "output_type": "stream",
     "text": [
      "{'workclass': ['Never-worked', 'Private', 'Without-pay', 'Self-emp-inc', 'Self-emp-not-inc', 'Local-gov', 'Federal-gov', 'State-gov'], 'education': ['Doctorate', 'Some-college', '10th', 'Masters', 'Bachelors', '12th', '11th', '7th-8th', '1st-4th', 'Assoc-voc', 'Prof-school', 'HS-grad', 'Assoc-acdm', 'Preschool', '5th-6th', '9th'], 'marital-status': ['Married-civ-spouse', 'Separated', 'Widowed', 'Divorced', 'Married-spouse-absent', 'Married-AF-spouse', 'Never-married'], 'occupation': ['Farming-fishing', 'Tech-support', 'Protective-serv', 'Handlers-cleaners', 'Sales', 'Armed-Forces', 'Transport-moving', 'Machine-op-inspct', 'Craft-repair', 'Prof-specialty', 'Exec-managerial', 'Priv-house-serv', 'Other-service', 'Adm-clerical'], 'relationship': ['Other-relative', 'Wife', 'Not-in-family', 'Husband', 'Unmarried', 'Own-child'], 'race': ['Black', 'White', 'Other', 'Asian-Pac-Islander', 'Amer-Indian-Eskimo'], 'sex': ['Male', 'Female'], 'native-country': ['Holand-Netherlands', 'Poland', 'Hong', 'Jamaica', 'France', 'Peru', 'England', 'Cambodia', 'Greece', 'Iran', 'Ireland', 'Italy', 'Canada', 'China', 'Nicaragua', 'Laos', 'Portugal', 'United-States', 'Outlying-US(Guam-USVI-etc)', 'Haiti', 'Thailand', 'Germany', 'India', 'Dominican-Republic', 'Puerto-Rico', 'Mexico', 'Ecuador', 'Japan', 'Philippines', 'Scotland', 'Taiwan', 'Trinadad&Tobago', 'Columbia', 'Hungary', 'Guatemala', 'Vietnam', 'Yugoslavia', 'Honduras', 'South', 'El-Salvador', 'Cuba'], 'income': ['<=50K', '>50K']}\n"
     ]
    }
   ],
   "source": [
    "cat_cols = train_df.select_dtypes(include='category').columns\n",
    "vocab_dict = {}\n",
    "for col in cat_cols:\n",
    "    vocab_dict[col] = list(set(train_df[col].cat.categories)-{\"?\"})\n",
    "\n",
    "output_file_path = os.path.join(dataset_base_dir,'vocabulary.json')\n",
    "with open(output_file_path, mode=\"w\") as output_file:\n",
    "    output_file.write(json.dumps(vocab_dict))\n",
    "    output_file.close()\n",
    "print(vocab_dict)"
   ]
  },
  {
   "cell_type": "markdown",
   "metadata": {
    "colab_type": "text",
    "id": "V9cxiG9SLfk6"
   },
   "source": [
    "### Construct mean_std.json, and write to directory\n",
    "\n",
    "mean_std.json: json dictionary of the format feature_name: [mean, std]},\n",
    "containing mean and std for numerical features. "
   ]
  },
  {
   "cell_type": "code",
   "execution_count": 10,
   "metadata": {
    "colab": {
     "height": 54
    },
    "colab_type": "code",
    "id": "sUWCDXhaQZE_",
    "outputId": "82d48f27-6ced-41ea-ff94-60d41d6561a3"
   },
   "outputs": [
    {
     "name": "stdout",
     "output_type": "stream",
     "text": [
      "{'age': [38.58164675532078, 13.640432553581341], 'fnlwgt': [189778.36651208502, 105549.97769702224], 'education-num': [10.0806793403151, 2.5727203320673877], 'capital-gain': [1077.6488437087312, 7385.292084840338], 'capital-loss': [87.303829734959, 402.9602186489998], 'hours-per-week': [40.437455852092995, 12.347428681731843]}\n"
     ]
    }
   ],
   "source": [
    "temp_dict = train_df.describe().to_dict()\n",
    "mean_std_dict = {}\n",
    "for key, value in temp_dict.items():\n",
    "    mean_std_dict[key] = [value['mean'],value['std']]\n",
    "\n",
    "output_file_path = os.path.join(dataset_base_dir,'mean_std.json')\n",
    "with open(output_file_path, mode=\"w\") as output_file:\n",
    "    output_file.write(json.dumps(mean_std_dict))\n",
    "    output_file.close()\n",
    "print(mean_std_dict)"
   ]
  },
  {
   "cell_type": "markdown",
   "metadata": {},
   "source": [
    "### Construct datasets_stats.json\n",
    "\n",
    "\n",
    "dataset_stats.json: json dictionary that contains whith information that is hardcoded in the original TensorFlow implementation by Lahoti et al."
   ]
  },
  {
   "cell_type": "code",
   "execution_count": 11,
   "metadata": {},
   "outputs": [],
   "source": [
    "stats = {}\n",
    "stats[\"feature_names\"] = list(train_df.columns)\n",
    "stats[\"mean_std\"] = mean_std_dict\n",
    "stats[\"sensitive_column_names\"] = [\"sex\", \"race\"]\n",
    "stats[\"sensitive_column_values\"] = [\"Female\", \"Black\"]\n",
    "stats[\"target_column_name\"] = \"income\"\n",
    "stats[\"target_column_positive_value\"] = \">50K\"\n",
    "stats[\"vocabulary\"] = vocab_dict\n",
    "\n",
    "output_file_path = os.path.join(dataset_base_dir, 'dataset_stats.json')\n",
    "with open(output_file_path, mode=\"w\") as output_file:\n",
    "    output_file.write(json.dumps(stats, indent=4, sort_keys=True))\n",
    "    output_file.close()"
   ]
  }
 ],
 "metadata": {
  "colab": {
   "collapsed_sections": [],
   "name": "CreateUCIAdultDatasetFiles.ipynb",
   "provenance": []
  },
  "kernelspec": {
   "display_name": "Python 3",
   "language": "python",
   "name": "python3"
  },
  "language_info": {
   "codemirror_mode": {
    "name": "ipython",
    "version": 3
   },
   "file_extension": ".py",
   "mimetype": "text/x-python",
   "name": "python",
   "nbconvert_exporter": "python",
   "pygments_lexer": "ipython3",
   "version": "3.8.5"
  }
 },
 "nbformat": 4,
 "nbformat_minor": 1
}
