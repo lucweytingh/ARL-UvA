{
 "cells": [
  {
   "cell_type": "markdown",
   "metadata": {},
   "source": [
    "# Dataset overview lsac"
   ]
  },
  {
   "cell_type": "code",
   "execution_count": 68,
   "metadata": {},
   "outputs": [],
   "source": [
    "from __future__ import division\n",
    "import pandas as pd\n",
    "import numpy as np\n",
    "import json\n",
    "import os,sys\n",
    "import seaborn as sns\n",
    "import matplotlib.pyplot as plt\n",
    "from sklearn.model_selection import train_test_split\n",
    "import numpy as np"
   ]
  },
  {
   "cell_type": "code",
   "execution_count": 69,
   "metadata": {},
   "outputs": [],
   "source": [
    "pd.options.display.float_format = '{:,.2f}'.format\n",
    "dataset_base_dir = '../datasets/law_school/'\n",
    "train_file = 'train.csv'\n",
    "test_file = 'test.csv'"
   ]
  },
  {
   "cell_type": "code",
   "execution_count": 70,
   "metadata": {},
   "outputs": [
    {
     "data": {
      "text/html": [
       "<div>\n",
       "<style scoped>\n",
       "    .dataframe tbody tr th:only-of-type {\n",
       "        vertical-align: middle;\n",
       "    }\n",
       "\n",
       "    .dataframe tbody tr th {\n",
       "        vertical-align: top;\n",
       "    }\n",
       "\n",
       "    .dataframe thead th {\n",
       "        text-align: right;\n",
       "    }\n",
       "</style>\n",
       "<table border=\"1\" class=\"dataframe\">\n",
       "  <thead>\n",
       "    <tr style=\"text-align: right;\">\n",
       "      <th></th>\n",
       "      <th>0</th>\n",
       "      <th>1</th>\n",
       "      <th>2</th>\n",
       "      <th>3</th>\n",
       "      <th>4</th>\n",
       "      <th>5</th>\n",
       "      <th>6</th>\n",
       "      <th>7</th>\n",
       "      <th>8</th>\n",
       "      <th>9</th>\n",
       "      <th>10</th>\n",
       "      <th>11</th>\n",
       "    </tr>\n",
       "  </thead>\n",
       "  <tbody>\n",
       "    <tr>\n",
       "      <th>0</th>\n",
       "      <td>0.14</td>\n",
       "      <td>-0.73</td>\n",
       "      <td>63.00</td>\n",
       "      <td>676.32</td>\n",
       "      <td>3.00</td>\n",
       "      <td>4.00</td>\n",
       "      <td>37.00</td>\n",
       "      <td>2.50</td>\n",
       "      <td>No</td>\n",
       "      <td>Male</td>\n",
       "      <td>White</td>\n",
       "      <td>Passed</td>\n",
       "    </tr>\n",
       "    <tr>\n",
       "      <th>1</th>\n",
       "      <td>-1.48</td>\n",
       "      <td>0.00</td>\n",
       "      <td>69.00</td>\n",
       "      <td>681.58</td>\n",
       "      <td>3.00</td>\n",
       "      <td>2.00</td>\n",
       "      <td>31.00</td>\n",
       "      <td>3.50</td>\n",
       "      <td>No</td>\n",
       "      <td>Male</td>\n",
       "      <td>White</td>\n",
       "      <td>Failed_or_not_attempted</td>\n",
       "    </tr>\n",
       "    <tr>\n",
       "      <th>2</th>\n",
       "      <td>0.61</td>\n",
       "      <td>-0.09</td>\n",
       "      <td>69.00</td>\n",
       "      <td>718.95</td>\n",
       "      <td>4.00</td>\n",
       "      <td>2.00</td>\n",
       "      <td>34.00</td>\n",
       "      <td>3.40</td>\n",
       "      <td>No</td>\n",
       "      <td>Male</td>\n",
       "      <td>White</td>\n",
       "      <td>Passed</td>\n",
       "    </tr>\n",
       "    <tr>\n",
       "      <th>3</th>\n",
       "      <td>0.14</td>\n",
       "      <td>-0.50</td>\n",
       "      <td>66.00</td>\n",
       "      <td>942.63</td>\n",
       "      <td>5.00</td>\n",
       "      <td>3.00</td>\n",
       "      <td>45.00</td>\n",
       "      <td>3.90</td>\n",
       "      <td>No</td>\n",
       "      <td>Male</td>\n",
       "      <td>White</td>\n",
       "      <td>Passed</td>\n",
       "    </tr>\n",
       "    <tr>\n",
       "      <th>4</th>\n",
       "      <td>0.99</td>\n",
       "      <td>0.94</td>\n",
       "      <td>67.00</td>\n",
       "      <td>667.37</td>\n",
       "      <td>2.00</td>\n",
       "      <td>3.00</td>\n",
       "      <td>32.00</td>\n",
       "      <td>3.20</td>\n",
       "      <td>No</td>\n",
       "      <td>Male</td>\n",
       "      <td>White</td>\n",
       "      <td>Failed_or_not_attempted</td>\n",
       "    </tr>\n",
       "    <tr>\n",
       "      <th>...</th>\n",
       "      <td>...</td>\n",
       "      <td>...</td>\n",
       "      <td>...</td>\n",
       "      <td>...</td>\n",
       "      <td>...</td>\n",
       "      <td>...</td>\n",
       "      <td>...</td>\n",
       "      <td>...</td>\n",
       "      <td>...</td>\n",
       "      <td>...</td>\n",
       "      <td>...</td>\n",
       "      <td>...</td>\n",
       "    </tr>\n",
       "    <tr>\n",
       "      <th>7961</th>\n",
       "      <td>-0.26</td>\n",
       "      <td>-0.60</td>\n",
       "      <td>69.00</td>\n",
       "      <td>728.95</td>\n",
       "      <td>3.00</td>\n",
       "      <td>4.00</td>\n",
       "      <td>34.00</td>\n",
       "      <td>3.50</td>\n",
       "      <td>No</td>\n",
       "      <td>Female</td>\n",
       "      <td>White</td>\n",
       "      <td>Passed</td>\n",
       "    </tr>\n",
       "    <tr>\n",
       "      <th>7962</th>\n",
       "      <td>0.98</td>\n",
       "      <td>1.02</td>\n",
       "      <td>66.00</td>\n",
       "      <td>879.47</td>\n",
       "      <td>5.00</td>\n",
       "      <td>4.00</td>\n",
       "      <td>41.00</td>\n",
       "      <td>3.90</td>\n",
       "      <td>No</td>\n",
       "      <td>Male</td>\n",
       "      <td>White</td>\n",
       "      <td>Failed_or_not_attempted</td>\n",
       "    </tr>\n",
       "    <tr>\n",
       "      <th>7963</th>\n",
       "      <td>-0.92</td>\n",
       "      <td>-0.63</td>\n",
       "      <td>64.00</td>\n",
       "      <td>635.26</td>\n",
       "      <td>3.00</td>\n",
       "      <td>1.00</td>\n",
       "      <td>32.50</td>\n",
       "      <td>2.80</td>\n",
       "      <td>No</td>\n",
       "      <td>Female</td>\n",
       "      <td>Other</td>\n",
       "      <td>Passed</td>\n",
       "    </tr>\n",
       "    <tr>\n",
       "      <th>7964</th>\n",
       "      <td>1.30</td>\n",
       "      <td>1.47</td>\n",
       "      <td>68.00</td>\n",
       "      <td>763.16</td>\n",
       "      <td>4.00</td>\n",
       "      <td>4.00</td>\n",
       "      <td>33.00</td>\n",
       "      <td>4.00</td>\n",
       "      <td>No</td>\n",
       "      <td>Female</td>\n",
       "      <td>White</td>\n",
       "      <td>Passed</td>\n",
       "    </tr>\n",
       "    <tr>\n",
       "      <th>7965</th>\n",
       "      <td>-0.42</td>\n",
       "      <td>-0.53</td>\n",
       "      <td>69.00</td>\n",
       "      <td>769.47</td>\n",
       "      <td>3.00</td>\n",
       "      <td>4.00</td>\n",
       "      <td>41.00</td>\n",
       "      <td>2.80</td>\n",
       "      <td>No</td>\n",
       "      <td>Female</td>\n",
       "      <td>White</td>\n",
       "      <td>Passed</td>\n",
       "    </tr>\n",
       "  </tbody>\n",
       "</table>\n",
       "<p>26551 rows × 12 columns</p>\n",
       "</div>"
      ],
      "text/plain": [
       "        0     1     2      3    4    5     6    7   8       9      10  \\\n",
       "0     0.14 -0.73 63.00 676.32 3.00 4.00 37.00 2.50  No    Male  White   \n",
       "1    -1.48  0.00 69.00 681.58 3.00 2.00 31.00 3.50  No    Male  White   \n",
       "2     0.61 -0.09 69.00 718.95 4.00 2.00 34.00 3.40  No    Male  White   \n",
       "3     0.14 -0.50 66.00 942.63 5.00 3.00 45.00 3.90  No    Male  White   \n",
       "4     0.99  0.94 67.00 667.37 2.00 3.00 32.00 3.20  No    Male  White   \n",
       "...    ...   ...   ...    ...  ...  ...   ...  ...  ..     ...    ...   \n",
       "7961 -0.26 -0.60 69.00 728.95 3.00 4.00 34.00 3.50  No  Female  White   \n",
       "7962  0.98  1.02 66.00 879.47 5.00 4.00 41.00 3.90  No    Male  White   \n",
       "7963 -0.92 -0.63 64.00 635.26 3.00 1.00 32.50 2.80  No  Female  Other   \n",
       "7964  1.30  1.47 68.00 763.16 4.00 4.00 33.00 4.00  No  Female  White   \n",
       "7965 -0.42 -0.53 69.00 769.47 3.00 4.00 41.00 2.80  No  Female  White   \n",
       "\n",
       "                           11  \n",
       "0                      Passed  \n",
       "1     Failed_or_not_attempted  \n",
       "2                      Passed  \n",
       "3                      Passed  \n",
       "4     Failed_or_not_attempted  \n",
       "...                       ...  \n",
       "7961                   Passed  \n",
       "7962  Failed_or_not_attempted  \n",
       "7963                   Passed  \n",
       "7964                   Passed  \n",
       "7965                   Passed  \n",
       "\n",
       "[26551 rows x 12 columns]"
      ]
     },
     "execution_count": 70,
     "metadata": {},
     "output_type": "execute_result"
    }
   ],
   "source": [
    "path_train = os.path.join(dataset_base_dir,train_file)\n",
    "path_test = os.path.join(dataset_base_dir,test_file)\n",
    "\n",
    "with open(path_train, \"r\") as train_fi:\n",
    "    with open(path_test, \"r\") as test_fi: \n",
    "        train = pd.read_csv(train_fi, header=None)\n",
    "        test = pd.read_csv(test_fi, header=None)\n",
    "        df = train.append(test)\n",
    "df"
   ]
  },
  {
   "cell_type": "markdown",
   "metadata": {},
   "source": [
    "## General"
   ]
  },
  {
   "cell_type": "code",
   "execution_count": 71,
   "metadata": {},
   "outputs": [
    {
     "name": "stdout",
     "output_type": "stream",
     "text": [
      "Size\n",
      "26551\n",
      "No. features\n",
      "12\n",
      "Protected features:\n",
      "Race, Sex\n",
      "Protected groups:\n",
      "{White, Black} x {Male, Female}\n",
      "Prediciton task:\n",
      "Pass bar exam?\n"
     ]
    }
   ],
   "source": [
    "print('Size')\n",
    "size = len(df)\n",
    "print(size)\n",
    "\n",
    "print('No. features')\n",
    "# nr_features = (df.loc[:, df.dtypes == 'object']).drop(df.columns[[6]], axis=1).nunique().sum()\n",
    "nr_features = len(df.columns)\n",
    "print(nr_features)\n",
    "\n",
    "print('Protected features:')\n",
    "print('Race, Sex')\n",
    "\n",
    "print('Protected groups:')\n",
    "print('{White, Black} x {Male, Female}')\n",
    "\n",
    "print('Prediciton task:')\n",
    "print('Pass bar exam?')"
   ]
  },
  {
   "cell_type": "markdown",
   "metadata": {},
   "source": [
    "## Distribution of sex"
   ]
  },
  {
   "cell_type": "code",
   "execution_count": 72,
   "metadata": {},
   "outputs": [
    {
     "name": "stdout",
     "output_type": "stream",
     "text": [
      "Amount of Males:\n",
      "14873\n",
      "Percentage males:\n",
      "0.5601672253399119\n",
      "Amount of Females:\n",
      "11678\n",
      "Percentage Females:\n",
      "0.43983277466008813\n"
     ]
    }
   ],
   "source": [
    "print('Amount of Males:')\n",
    "nr_males = (df[9] == 'Male').sum()\n",
    "print(nr_males)\n",
    "\n",
    "print('Percentage males:')\n",
    "total_sex = len(df[9])\n",
    "print(nr_males/total_sex)\n",
    "\n",
    "\n",
    "print('Amount of Females:')\n",
    "nr_females = (df[9] == 'Female').sum()\n",
    "print(nr_females)\n",
    "\n",
    "print('Percentage Females:')\n",
    "print(nr_females/total_sex)"
   ]
  },
  {
   "cell_type": "markdown",
   "metadata": {},
   "source": [
    "## Distribution of race"
   ]
  },
  {
   "cell_type": "code",
   "execution_count": 73,
   "metadata": {},
   "outputs": [
    {
     "name": "stdout",
     "output_type": "stream",
     "text": [
      "Amount of White individuals:\n",
      "21936\n",
      "Percentage White individuals:\n",
      "0.8261835712402547\n",
      "Amount of Black individuals:\n",
      "1790\n",
      "Percentage Black individuals:\n",
      "0.06741742307257731\n",
      "Amount of Other individuals:\n",
      "2825\n",
      "Percentage Other individuals:\n",
      "0.10639900568716809\n"
     ]
    }
   ],
   "source": [
    "print('Amount of White individuals:')\n",
    "nr_white = (df[10] == 'White').sum()\n",
    "print(nr_white)\n",
    "\n",
    "print('Percentage White individuals:')\n",
    "total_race = len(df[10])\n",
    "print(nr_white/total_race)\n",
    "\n",
    "\n",
    "print('Amount of Black individuals:')\n",
    "nr_black = (df[10] == 'Black').sum()\n",
    "print(nr_black)\n",
    "\n",
    "print('Percentage Black individuals:')\n",
    "print(nr_black/total_race)\n",
    "\n",
    "\n",
    "print('Amount of Other individuals:')\n",
    "nr_other = (df[10] == 'Other').sum()\n",
    "print(nr_other)\n",
    "\n",
    "print('Percentage Other individuals:')\n",
    "print(nr_other/total_race)"
   ]
  },
  {
   "cell_type": "markdown",
   "metadata": {},
   "source": [
    "## Distribution of passing for race"
   ]
  },
  {
   "cell_type": "code",
   "execution_count": 74,
   "metadata": {},
   "outputs": [
    {
     "name": "stdout",
     "output_type": "stream",
     "text": [
      "Amount of black people passing for race:\n",
      "1023\n",
      "Percentage black passing for race:\n",
      "0.5715083798882682\n",
      "Amount of black people not passing for race:\n",
      "767\n",
      "Percentage black people not passing for race:\n",
      "0.42849162011173186\n"
     ]
    }
   ],
   "source": [
    "print('Amount of black people passing for race:')\n",
    "nr_black_recid = ((df[10] == 'Black') & (df[11] == 'Passed')).sum()\n",
    "print(nr_black_recid)\n",
    "\n",
    "print('Percentage black passing for race:')\n",
    "print(nr_black_recid/nr_black)\n",
    "\n",
    "\n",
    "print('Amount of black people not passing for race:')\n",
    "nr_black_n_recid = ((df[10] == 'Black') & (df[11] == 'Failed_or_not_attempted')).sum()\n",
    "print(nr_black_n_recid)\n",
    "\n",
    "print('Percentage black people not passing for race:')\n",
    "print(nr_black_n_recid/nr_black)"
   ]
  },
  {
   "cell_type": "code",
   "execution_count": 75,
   "metadata": {},
   "outputs": [
    {
     "name": "stdout",
     "output_type": "stream",
     "text": [
      "Amount of white people passed:\n",
      "18164\n",
      "Percentage white passed:\n",
      "0.8280452224653537\n",
      "Amount of white people Failed_or_not_attempted:\n",
      "3772\n",
      "Percentage white people Failed_or_not_attempted:\n",
      "0.17195477753464625\n"
     ]
    }
   ],
   "source": [
    "print('Amount of white people passed:')\n",
    "nr_white_recid = ((df[10] == 'White') & (df[11] == 'Passed')).sum()\n",
    "print(nr_white_recid)\n",
    "\n",
    "print('Percentage white passed:')\n",
    "print(nr_white_recid/nr_white)\n",
    "\n",
    "\n",
    "print('Amount of white people Failed_or_not_attempted:')\n",
    "nr_white_n_recid = ((df[10] == 'White') & (df[11] == 'Failed_or_not_attempted')).sum()\n",
    "print(nr_white_n_recid)\n",
    "\n",
    "print('Percentage white people Failed_or_not_attempted:')\n",
    "print(nr_white_n_recid/nr_white)"
   ]
  },
  {
   "cell_type": "markdown",
   "metadata": {},
   "source": [
    "## Distribution of passing for sex"
   ]
  },
  {
   "cell_type": "code",
   "execution_count": 76,
   "metadata": {},
   "outputs": [
    {
     "name": "stdout",
     "output_type": "stream",
     "text": [
      "Amount of males passed:\n",
      "11943\n",
      "Percentage of males passed\n",
      "0.8029987225173133\n",
      "Amount of males Failed_or_not_attempted:\n",
      "2930\n",
      "Percentage of males Failed_or_not_attempted:\n",
      "0.19700127748268675\n"
     ]
    }
   ],
   "source": [
    "print('Amount of males passed:')\n",
    "nr_male_income = ((df[9] == 'Male') & (df[11] == 'Passed')).sum()\n",
    "print(nr_male_income)\n",
    "\n",
    "print('Percentage of males passed')\n",
    "print(nr_male_income/nr_males)\n",
    "\n",
    "\n",
    "print('Amount of males Failed_or_not_attempted:')\n",
    "nr_male_2_income = ((df[9] == 'Male') & (df[11] == 'Failed_or_not_attempted')).sum()\n",
    "print(nr_male_2_income)\n",
    "\n",
    "print('Percentage of males Failed_or_not_attempted:')\n",
    "print(nr_male_2_income/nr_males)"
   ]
  },
  {
   "cell_type": "code",
   "execution_count": 77,
   "metadata": {},
   "outputs": [
    {
     "name": "stdout",
     "output_type": "stream",
     "text": [
      "Amount of females passed\n",
      "9325\n",
      "Percentage of females passed\n",
      "0.7985100188388423\n",
      "Amount of females Failed_or_not_attempted\n",
      "2353\n",
      "Percentage of females Failed_or_not_attempted\n",
      "0.20148998116115774\n"
     ]
    }
   ],
   "source": [
    "print('Amount of females passed')\n",
    "nr_female_income = ((df[9] == 'Female') & (df[11] == 'Passed')).sum()\n",
    "print(nr_female_income)\n",
    "\n",
    "print('Percentage of females passed')\n",
    "print(nr_female_income/nr_females)\n",
    "\n",
    "\n",
    "print('Amount of females Failed_or_not_attempted')\n",
    "nr_female_2_income = ((df[9] == 'Female') & (df[11] == 'Failed_or_not_attempted')).sum()\n",
    "print(nr_female_2_income)\n",
    "\n",
    "print('Percentage of females Failed_or_not_attempted')\n",
    "print(nr_female_2_income/nr_females)"
   ]
  }
 ],
 "metadata": {
  "kernelspec": {
   "display_name": "Python 3",
   "language": "python",
   "name": "python3"
  },
  "language_info": {
   "codemirror_mode": {
    "name": "ipython",
    "version": 3
   },
   "file_extension": ".py",
   "mimetype": "text/x-python",
   "name": "python",
   "nbconvert_exporter": "python",
   "pygments_lexer": "ipython3",
   "version": "3.8.5"
  }
 },
 "nbformat": 4,
 "nbformat_minor": 4
}
